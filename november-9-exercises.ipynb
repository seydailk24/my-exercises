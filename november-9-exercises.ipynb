{
 "cells": [
  {
   "cell_type": "code",
   "execution_count": null,
   "metadata": {
    "id": "vMO1C6yWeEUb"
   },
   "outputs": [],
   "source": [
    "# birden cok kurzer       ctrl + d   birden cok kelime seciyoruz\n"
   ]
  },
  {
   "cell_type": "code",
   "execution_count": null,
   "metadata": {
    "id": "I8abFsi91vUY"
   },
   "outputs": [],
   "source": [
    "# Birden cok satiri comment yapma \n",
    "\n",
    "              "
   ]
  },
  {
   "cell_type": "code",
   "execution_count": null,
   "metadata": {
    "id": "Rn57IdOb12Zf"
   },
   "outputs": [],
   "source": [
    "# birden cok satiri ayni anda tirnak yada parantez icine alma \n"
   ]
  },
  {
   "cell_type": "code",
   "execution_count": null,
   "metadata": {
    "id": "DpRiGx0BJoo2"
   },
   "outputs": [],
   "source": [
    "# Colab den cikti alma "
   ]
  },
  {
   "cell_type": "code",
   "execution_count": null,
   "metadata": {
    "colab": {
     "base_uri": "https://localhost:8080/"
    },
    "id": "Fud9-b-81kAx",
    "outputId": "447cf763-4cb8-4998-978d-8f5c04507652"
   },
   "outputs": [
    {
     "name": "stdout",
     "output_type": "stream",
     "text": [
      "{'makine', 'insaat', 'endüstri', 'ucak', 'otomotiv', 'teknoloji', 'System', 'bilgisayar', 'software', 'maden', 'gida'}\n"
     ]
    }
   ],
   "source": [
    "# Dünyanin 5 süper gücü. Amerika, Almanya, Ingiltere, Cin ve Japonya.\n",
    "\n",
    "# Düsünelim ki bu ülkelerde cesitli mühendisler var ve \n",
    "\n",
    "# bazisinda olan mühendisler digerinde yok. Ama Elektrik elektronik Mühendisi hepsinde var.\n",
    "\n",
    "# Bu bes ülke bir anlasma imzaliyor ve sadece kendisinde mühendisligin bir türü\n",
    "\n",
    "# mevcut olan ülke diger ülkelere bu mühendislik ile ilgili egitim verecektir. \n",
    "\n",
    "# Mesela Almanya diger ülkelere Otomotiv Mühendisligi egitimi verecek iken\n",
    "\n",
    "# Amerika ise diger ülkelere Software engineer egitimi verecektir.\n",
    "\n",
    "# Ancak elek. Mühendisligi tüm ülkelerde oldugu icin bu mühendislik egitimi \n",
    "\n",
    "# icin bir egitim planlamasi yapilmayacaktir. \n",
    "\n",
    "# Ve egitim verecek olan mühendislerin tamamindan bir egitim takimi \n",
    "\n",
    "# olusturulacaktir. Ve bu takim icerisinde her bir mühendislik bransindan sadece \n",
    "\n",
    "# 1 tane ögretim görevlisi mühendis bulunacaktir.\n",
    "\n",
    "# Bu egitimi verecek olan mühendisin ise hangi ülkeden oldugu önemli degil\n",
    "\n",
    "# sadece 1 tane olmasi önemlidir. Yani mesela otomotiv mühendisligi verecek olan \n",
    "\n",
    "# mühendis, egitim takiminda tek olacaktir.\n",
    "\n",
    "#  Ülkelerin sahip oldugu mühendisler su sekildedir.\n",
    "\n",
    "alman = {\"otomotiv\", \"elektrik\", \"makine\", \"insaat\"} \n",
    "\n",
    "abd = {\"software\", \"elektrik\", \"bilgisayar\", \"System\"}        \n",
    "\n",
    "ing = {\"ucak\", \"elektrik\", \"endüstri\", \"gida\"}\n",
    "\n",
    "cin = {\"insaat\", \"elektrik\", \"endüstri\", \"software\"}\n",
    "\n",
    "japonya = {\"elektrik\", \"insaat\", \"teknoloji\", \"maden\" }\n",
    "\n",
    "egitimtakimi = (alman | abd | ing | cin | japonya) - ( alman & abd & ing & cin & japonya)\n",
    "\n",
    "print(egitimtakimi) \n",
    "\n",
    "\n",
    "\n",
    "## Egitim verecek olan mühendislerden olusacak takimi python kodu ile yazar misiniz ??"
   ]
  },
  {
   "cell_type": "code",
   "execution_count": null,
   "metadata": {
    "colab": {
     "base_uri": "https://localhost:8080/"
    },
    "id": "C6o_J_u0Jvf8",
    "outputId": "4572e45a-d5c7-4744-b63b-b98105af9290"
   },
   "outputs": [
    {
     "name": "stdout",
     "output_type": "stream",
     "text": [
      "Lütfen para atiniz: 0.5\n",
      "Merhaba hosgeldiniz. Güncel bakiyeniz:  0.5\n",
      "Para eklemek istermisiniz bakiyeniz yetersiz ?a\n",
      "Üzgünüz buyrun para üstünüz: 0.5 Euro\n"
     ]
    }
   ],
   "source": [
    "para1 = float(input(\"Lütfen para atiniz: \"))\n",
    "\n",
    "print(\"Merhaba hosgeldiniz. Güncel bakiyeniz: \", para1)\n",
    "\n",
    "\n",
    "\n",
    "if para1 >= 1.50:\n",
    "  soru = input(\"Cay mi istersiniz kahve mi?\").lower().strip()\n",
    "  \n",
    "  if soru == \"cay\":\n",
    "    print(\"Cayiniz hazirlaniyor. Buyrun para üstünüz:\", para1 - 1, \"Euro\")\n",
    "\n",
    "  elif soru == \"kahve\":\n",
    "    print(\"Kahveniz hazirlaniyor. Buyrun para üstünüz:\", para1 - 1.50, \"Euro\")\n",
    "\n",
    "  else:\n",
    "    print(\"Üzgünüz buyrun para üstünüz:\", para1, \"Euro\")\n",
    "\n",
    "\n",
    "\n",
    "\n",
    "\n",
    "\n",
    "\n",
    "elif 1 <= para1 < 1.50:\n",
    "  soru = input(\"Bakiyeniz ile sadece cay alabilirsiniz. Cay ister misiniz?\").lower()\n",
    "\n",
    "  if soru == \"evet\":\n",
    "    print(\"Cayiniz hazirlaniyor. Buyrun para üstünüz:\", para1 - 1, \"Euro\")\n",
    "\n",
    "  elif soru == \"hayir\":\n",
    "    print(\"Tesekkür ederiz buyrun para üstünüz:\", para1, \"Euro\")\n",
    "\n",
    "  else:\n",
    "    print(\"Üzgünüz buyrun para üstünüz:\", para1, \"Euro\")\n",
    "\n",
    "\n",
    "\n",
    "\n",
    "\n",
    "\n",
    "elif para1 < 1:\n",
    "  soru = input(\"Para eklemek istermisiniz bakiyeniz yetersiz ?\").lower()\n",
    "\n",
    "  if soru == \"hayir\":\n",
    "    print(\"Tesekkür ederiz buyrun para üstünüz:\", para1, \"Euro\")\n",
    "\n",
    "  elif soru == \"evet\":\n",
    "    para2 = float(input(\"Lütfen para ilave ediniz:\"))\n",
    "\n",
    "    if para1 + para2 >= 1.50:\n",
    "      soru = input(\"Cay mi istersiniz kahve mi?\").lower().strip()\n",
    "      \n",
    "      if soru == \"kahve\":\n",
    "        print(\"Kahveniz hazirlaniyor. Buyrun para üstünüz:\", para1 + para2 - 1.50, \"Euro\")\n",
    "\n",
    "      elif soru == \"cay\":\n",
    "        print(\"Cayiniz hazirlaniyor. Buyrun para üstünüz:\", para1 + para2 - 1, \"Euro\")\n",
    "\n",
    "      else:\n",
    "        print(\"Üzgünüz buyrun para üstünüz:\", para1 + para2, \"Euro\")\n",
    "\n",
    "    elif para1 + para2 < 1:\n",
    "      print(\"Üzgünüz buyrun para üstünüz:\", para1 + para2, \"Euro\")\n",
    "\n",
    "    elif 1 <= para1 + para2 < 1.50:\n",
    "      soru = input(\"Parani ile sadece cay alabilirisniz. Cay ister misiniz?? \").lower()\n",
    "\n",
    "      if soru == \"hayir\":\n",
    "        print(\"Tesekkürler buyrun para üstünüz:\", para1 + para2, \"Euro\")\n",
    "\n",
    "      elif soru == \"evet\":\n",
    "        print(\"Cayiniz hazirlaniyor. Buyrun para üstünüz:\", para1 + para2 - 1, \"Euro\")\n",
    "\n",
    "      else:\n",
    "        print(\"Üzgünüz buyrun para üstünüz:\", para1 + para2, \"Euro\")\n",
    "\n",
    "  else:\n",
    "    print(\"Üzgünüz buyrun para üstünüz:\", para1, \"Euro\")\n",
    "\n",
    "else:\n",
    "  print(\"Üzgünüz buyrun para üstünüz:\", para1, \"Euro\")     \n"
   ]
  },
  {
   "cell_type": "code",
   "execution_count": null,
   "metadata": {
    "id": "9-eCtyvM0Xto"
   },
   "outputs": [],
   "source": [
    "\n",
    "girdi1 = float(input(\"Lütfen matematik notunuzu giriniz: \"))\n",
    "girdi2 = float(input(\"Lütfen ingilizce notunuzu giriniz: \"))\n",
    "girdi3 = float(input(\"Lütfen cografya notunuzu giriniz: \"))\n",
    "girdi4 = float(input(\"Lütfen fizik notunuzu giriniz: \"))\n",
    "girdi5 = float(input(\"Lütfen kimya notunuzu giriniz: \"))\n",
    "\n",
    "notort = ((girdi1 + girdi2 + girdi3 + girdi4 + girdi5) / 5)\n",
    "\n",
    "if notort >= 90 \\\n",
    "  and (girdi1 >= 85 and girdi2 >= 85 and girdi3 >= 85 and girdi4 >= 85 and girdi5 >= 85):\n",
    "\n",
    "  print(\"Tebrikler Not Ortalamaniz: \", notort, \"AA\", \" ve Onur belgesine hak kazandiniz\")\n",
    "\n",
    "elif notort >= 90 \\\n",
    "  and (girdi1 < 85 or girdi2 < 85 or girdi3 < 85 or girdi4 < 85 or girdi5 < 85):\n",
    "  print(\"Tebrikler Not Ortalamaniz: \", notort, \"AA\", \" Ancak Onur belgesine hak kazanamadiniz\")\n",
    "\n",
    "elif 80 <= notort < 90:\n",
    "  if girdi1 >= 75 and girdi2 >= 75 and girdi3 >= 75 and girdi4 >= 75 and girdi5 >= 75:\n",
    "    print(\"Tebrikler Not Ortalamaniz: \", notort, \"AB\", \" 1000 Euro hediye ceki kazandiniz\")\n",
    "\n",
    "  else:\n",
    "    print(\"Tebrikler Not Ortalamaniz: \", notort, \"AB\")\n",
    "    \n",
    "elif 70 <= notort <= 80:\n",
    "  if girdi1 >= 70 and girdi2 >= 70 and girdi3 >= 70 and girdi4 >= 70 and girdi5 >= 70:\n",
    "    print(\"Tebrikler Not Ortalamaniz: \", notort, \"BB\", \" 500 Euro hediye ceki kazandiniz\")\n",
    "\n",
    "  else:\n",
    "    print(\"Tebrikler Not Ortalamaniz: \", notort, \"BB\")\n",
    "\n",
    "elif 60 <= notort < 70:\n",
    "  print(\"Not ortalamaniz:\", notort, \"BC\")\n",
    "\n",
    "elif 50 <= notort < 60:\n",
    "  print(\"Not ortalamaniz:\", notort, \"CC\")\n",
    "\n",
    "elif 40 <= notort < 50:\n",
    "  print(\"Not ortalamaniz:\", notort, \"DD\")\n",
    "\n",
    "elif notort < 40 \\\n",
    "  or (girdi1 < 40 or girdi2 < 40 or girdi3 < 40 or girdi4 < 40 or girdi5 < 40):\n",
    "  print(\"Üzgünüz not Ortalamaniz: \", notort, \"FF\", \"Sinif tekrari\") \n"
   ]
  },
  {
   "cell_type": "code",
   "execution_count": null,
   "metadata": {
    "id": "1wMmhwq90Xv1"
   },
   "outputs": [],
   "source": []
  },
  {
   "cell_type": "code",
   "execution_count": null,
   "metadata": {
    "id": "EiRo1smqeHvp"
   },
   "outputs": [],
   "source": []
  },
  {
   "cell_type": "code",
   "execution_count": null,
   "metadata": {
    "id": "bSpMpXizeHxa"
   },
   "outputs": [],
   "source": []
  },
  {
   "cell_type": "code",
   "execution_count": null,
   "metadata": {
    "id": "pvtu4CNiL9Vo"
   },
   "outputs": [],
   "source": []
  },
  {
   "cell_type": "code",
   "execution_count": null,
   "metadata": {
    "id": "wmzIdOQN_uHc"
   },
   "outputs": [],
   "source": []
  },
  {
   "cell_type": "code",
   "execution_count": null,
   "metadata": {
    "id": "qPOMUxea_uJn"
   },
   "outputs": [],
   "source": []
  },
  {
   "cell_type": "code",
   "execution_count": null,
   "metadata": {
    "id": "mWFKFYOh_uLI"
   },
   "outputs": [],
   "source": []
  },
  {
   "cell_type": "code",
   "execution_count": null,
   "metadata": {
    "id": "MtfTd6mP_uNX"
   },
   "outputs": [],
   "source": []
  },
  {
   "cell_type": "code",
   "execution_count": null,
   "metadata": {
    "id": "fGH5vtt4_uPK"
   },
   "outputs": [],
   "source": []
  },
  {
   "cell_type": "code",
   "execution_count": null,
   "metadata": {
    "id": "SQfcBF7qeHzN"
   },
   "outputs": [],
   "source": []
  },
  {
   "cell_type": "code",
   "execution_count": null,
   "metadata": {
    "id": "bAjEThm74tSu"
   },
   "outputs": [],
   "source": []
  },
  {
   "cell_type": "code",
   "execution_count": null,
   "metadata": {
    "id": "E0hcIQrA4tVI"
   },
   "outputs": [],
   "source": []
  },
  {
   "cell_type": "code",
   "execution_count": null,
   "metadata": {
    "id": "ED6HqRgxLvtK"
   },
   "outputs": [],
   "source": []
  },
  {
   "cell_type": "code",
   "execution_count": null,
   "metadata": {
    "id": "0kt4q4p9MPCe"
   },
   "outputs": [],
   "source": []
  }
 ],
 "metadata": {
  "colab": {
   "collapsed_sections": [],
   "name": "09.11.21_Soru_Cözümü.ipynb",
   "provenance": []
  },
  "kernelspec": {
   "display_name": "Python 3",
   "language": "python",
   "name": "python3"
  },
  "language_info": {
   "codemirror_mode": {
    "name": "ipython",
    "version": 3
   },
   "file_extension": ".py",
   "mimetype": "text/x-python",
   "name": "python",
   "nbconvert_exporter": "python",
   "pygments_lexer": "ipython3",
   "version": "3.8.8"
  }
 },
 "nbformat": 4,
 "nbformat_minor": 1
}

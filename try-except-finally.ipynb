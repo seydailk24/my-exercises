{
 "cells": [
  {
   "cell_type": "code",
   "execution_count": null,
   "id": "a5c0b855",
   "metadata": {},
   "outputs": [],
   "source": [
    "#QUESTION:Use the calculator you created before and name it as calculator2. \n",
    "#Implement Full 'Exception Handling' while callling calculator2. \n",
    "#Try to run your function, if exception occurs write 'Please enter a valid operator and \n",
    "#valid number values' and finally write 'Calculator works just fine' for every run."
   ]
  },
  {
   "cell_type": "code",
   "execution_count": 1,
   "id": "1371b2ae",
   "metadata": {},
   "outputs": [],
   "source": [
    "def calculator():\n",
    "    operation=input().split()\n",
    "    a,o,b=int(operation[0]),operation[1],int(operation[2])\n",
    "    \n",
    "    if o=='+':\n",
    "        return a+b\n",
    "    elif o=='-':\n",
    "        return a-b\n",
    "    elif o=='*':\n",
    "        return a*b\n",
    "    elif o=='/':\n",
    "        return a/b\n",
    "    else:\n",
    "        return ('Please enter a valid operator sign')"
   ]
  },
  {
   "cell_type": "code",
   "execution_count": 4,
   "id": "6e967937",
   "metadata": {},
   "outputs": [
    {
     "name": "stdout",
     "output_type": "stream",
     "text": [
      "a / 5\n",
      "please enter valid values\n",
      "Calculator works just fine\n"
     ]
    }
   ],
   "source": [
    "try:\n",
    "    result=calculator()   \n",
    "    print(result)\n",
    "    \n",
    "except:\n",
    "    print('please enter valid values')  #hata buldumu bu kismi calistirir\n",
    "finally:\n",
    "    print('Calculator works just fine')  #bu kismi herzaman calistirir \n",
    "    \n"
   ]
  },
  {
   "cell_type": "code",
   "execution_count": 5,
   "id": "8503b26d",
   "metadata": {},
   "outputs": [
    {
     "name": "stdout",
     "output_type": "stream",
     "text": [
      "5 / 0\n",
      "nominator is zero please change it\n",
      "Calculator works just fine\n"
     ]
    }
   ],
   "source": [
    "try:\n",
    "    result=calculator()   \n",
    "    print(result)\n",
    "    \n",
    "except ZeroDivisionError:\n",
    "    print('nominator is zero please change it')  #hata buldumu bu kismi calistirir\n",
    "finally:\n",
    "    print('Calculator works just fine')  #bu kismi herzaman calistirir \n",
    "    \n"
   ]
  },
  {
   "cell_type": "code",
   "execution_count": null,
   "id": "6f5043d8",
   "metadata": {},
   "outputs": [],
   "source": []
  },
  {
   "cell_type": "code",
   "execution_count": 6,
   "id": "4220ef40",
   "metadata": {},
   "outputs": [],
   "source": [
    "import numpy as np"
   ]
  },
  {
   "cell_type": "code",
   "execution_count": 7,
   "id": "f95c6d14",
   "metadata": {},
   "outputs": [
    {
     "data": {
      "text/plain": [
       "86"
      ]
     },
     "execution_count": 7,
     "metadata": {},
     "output_type": "execute_result"
    }
   ],
   "source": [
    "np.max([34, -50, 42, 14, -5, 86])"
   ]
  },
  {
   "cell_type": "code",
   "execution_count": null,
   "id": "7b1b73e9",
   "metadata": {},
   "outputs": [],
   "source": [
    "\n"
   ]
  },
  {
   "cell_type": "code",
   "execution_count": null,
   "id": "e1311152",
   "metadata": {},
   "outputs": [],
   "source": []
  },
  {
   "cell_type": "code",
   "execution_count": null,
   "id": "4008473c",
   "metadata": {},
   "outputs": [],
   "source": []
  }
 ],
 "metadata": {
  "kernelspec": {
   "display_name": "Python 3",
   "language": "python",
   "name": "python3"
  },
  "language_info": {
   "codemirror_mode": {
    "name": "ipython",
    "version": 3
   },
   "file_extension": ".py",
   "mimetype": "text/x-python",
   "name": "python",
   "nbconvert_exporter": "python",
   "pygments_lexer": "ipython3",
   "version": "3.8.8"
  }
 },
 "nbformat": 4,
 "nbformat_minor": 5
}

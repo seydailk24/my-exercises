{
 "cells": [
  {
   "cell_type": "code",
   "execution_count": 7,
   "id": "292122ca",
   "metadata": {},
   "outputs": [
    {
     "name": "stdout",
     "output_type": "stream",
     "text": [
      "*****\n",
      "****\n",
      "***\n",
      "**\n",
      "*\n"
     ]
    }
   ],
   "source": [
    "# *****\n",
    "# ****\n",
    "# ***\n",
    "# **\n",
    "# *\n",
    "\n",
    "for i in range(5,0,-1):\n",
    "    print(i * \"*\")\n",
    "\n"
   ]
  },
  {
   "cell_type": "code",
   "execution_count": null,
   "id": "557cdea1",
   "metadata": {},
   "outputs": [],
   "source": [
    "# 1\n",
    "# 1 2\n",
    "# 1 2 3\n",
    "# 1 2 3 4\n",
    "\n",
    "\n",
    "num = 5\n",
    "for i in range(num) :\n",
    "  for j in range(1, i+1):\n",
    "    print(j, end = \" \")\n",
    "  print()\n",
    "    "
   ]
  },
  {
   "cell_type": "code",
   "execution_count": null,
   "id": "5fb8b857",
   "metadata": {},
   "outputs": [],
   "source": [
    "#      1 \n",
    "#     1 2 \n",
    "#    1 2 3 \n",
    "#   1 2 3 4 \n",
    "#  1 2 3 4 5\n",
    "num = int(input(\"\"))\n",
    "for i in range(1,num+1) :\n",
    "  print(\" \" * (num +1 -i), *range(1,i+1))"
   ]
  },
  {
   "cell_type": "code",
   "execution_count": null,
   "id": "a04ec74e",
   "metadata": {},
   "outputs": [],
   "source": []
  }
 ],
 "metadata": {
  "kernelspec": {
   "display_name": "Python 3",
   "language": "python",
   "name": "python3"
  },
  "language_info": {
   "codemirror_mode": {
    "name": "ipython",
    "version": 3
   },
   "file_extension": ".py",
   "mimetype": "text/x-python",
   "name": "python",
   "nbconvert_exporter": "python",
   "pygments_lexer": "ipython3",
   "version": "3.8.8"
  }
 },
 "nbformat": 4,
 "nbformat_minor": 5
}

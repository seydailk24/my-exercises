{
 "cells": [
  {
   "cell_type": "code",
   "execution_count": null,
   "id": "2c229ed8",
   "metadata": {},
   "outputs": [],
   "source": [
    "#1'den 1000'e kadar olan sayılardan mükemmel sayı olanları ekrana yazdırın.\n",
    "#Bunun için bir sayının mükemmel olup olmadığını dönen bir tane fonksiyon yazın.\n",
    "\n",
    "#Bir sayının bölenlerinin toplamı kendine eşitse bu sayı mükemmel bir sayıdır. \n",
    "#Örnek olarak 6 mükemmel bir sayıdır (1 + 2 + 3 = 6)\n",
    "\n",
    "\n",
    "\n"
   ]
  },
  {
   "cell_type": "code",
   "execution_count": 4,
   "id": "95b1ef46",
   "metadata": {},
   "outputs": [],
   "source": [
    "def mukemmel(sayi):\n",
    "    \n",
    "    toplam = 0\n",
    "    \n",
    "    for i in range(1,sayi):\n",
    "        \n",
    "        if (sayi % i == 0):\n",
    "            toplam += 1\n",
    "    return toplam == sayi\n",
    "\n",
    "for i in range(1, 1001):\n",
    "    if (mukemmel(i)):\n",
    "        print(\"mukemmel sayi:\", i)"
   ]
  },
  {
   "cell_type": "code",
   "execution_count": null,
   "id": "6e2bf38e",
   "metadata": {},
   "outputs": [],
   "source": []
  }
 ],
 "metadata": {
  "kernelspec": {
   "display_name": "Python 3",
   "language": "python",
   "name": "python3"
  },
  "language_info": {
   "codemirror_mode": {
    "name": "ipython",
    "version": 3
   },
   "file_extension": ".py",
   "mimetype": "text/x-python",
   "name": "python",
   "nbconvert_exporter": "python",
   "pygments_lexer": "ipython3",
   "version": "3.8.8"
  }
 },
 "nbformat": 4,
 "nbformat_minor": 5
}

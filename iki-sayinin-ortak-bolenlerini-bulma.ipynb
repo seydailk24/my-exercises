{
 "cells": [
  {
   "cell_type": "code",
   "execution_count": null,
   "id": "1e2d6bca",
   "metadata": {},
   "outputs": [],
   "source": [
    "#kullanicidan alinan iki sayinin ortak bolenlerini yazdiran bir program yaziniz\n",
    "\n",
    "\n",
    "num1 = int(input(\"please enter first number :\"))\n",
    "num2 = int(input(\"please enter second number :\"))\n",
    "toplam = []\n",
    "\n",
    "for i in range(1,num1+1) :\n",
    "  if num1 % i == 0:\n",
    "    toplam += [i]\n",
    "    num1 = num1 // i\n",
    "for j in range(1,num2+1) :\n",
    "  if num2 % j == 0:\n",
    "    toplam += [j]\n",
    "    num2 = num2 // j\n",
    "print(set(toplam)) # liste kullansam aynilarini iki kere yazdiricakti set kullanmamin sebebi sade bir kere yazdiriyor daha duzenli duruyor ayni seyleri\n"
   ]
  },
  {
   "cell_type": "code",
   "execution_count": null,
   "id": "4e0d7e74",
   "metadata": {},
   "outputs": [],
   "source": []
  },
  {
   "cell_type": "code",
   "execution_count": null,
   "id": "fccdb0b2",
   "metadata": {},
   "outputs": [],
   "source": []
  }
 ],
 "metadata": {
  "kernelspec": {
   "display_name": "Python 3",
   "language": "python",
   "name": "python3"
  },
  "language_info": {
   "codemirror_mode": {
    "name": "ipython",
    "version": 3
   },
   "file_extension": ".py",
   "mimetype": "text/x-python",
   "name": "python",
   "nbconvert_exporter": "python",
   "pygments_lexer": "ipython3",
   "version": "3.8.8"
  }
 },
 "nbformat": 4,
 "nbformat_minor": 5
}

{
 "cells": [
  {
   "cell_type": "code",
   "execution_count": 2,
   "id": "04048d7c",
   "metadata": {},
   "outputs": [],
   "source": [
    "def double(x):\n",
    "    return x * 2"
   ]
  },
  {
   "cell_type": "code",
   "execution_count": 5,
   "id": "067848cb",
   "metadata": {},
   "outputs": [
    {
     "name": "stdout",
     "output_type": "stream",
     "text": [
      "<map object at 0x7fcb54a98ca0>\n"
     ]
    }
   ],
   "source": [
    "map(double,[1,2,3,4,5,6,7])"
   ]
  },
  {
   "cell_type": "code",
   "execution_count": 6,
   "id": "bc73aeed",
   "metadata": {},
   "outputs": [
    {
     "data": {
      "text/plain": [
       "[2, 4, 6, 8, 10, 12, 14]"
      ]
     },
     "execution_count": 6,
     "metadata": {},
     "output_type": "execute_result"
    }
   ],
   "source": [
    "list(map(double,[1,2,3,4,5,6,7]))"
   ]
  },
  {
   "cell_type": "code",
   "execution_count": 9,
   "id": "261c4f86",
   "metadata": {},
   "outputs": [
    {
     "data": {
      "text/plain": [
       "[1, 4, 9, 16, 25, 36, 49, 64, 81, 100]"
      ]
     },
     "execution_count": 9,
     "metadata": {},
     "output_type": "execute_result"
    }
   ],
   "source": [
    "list(map(lambda x : x ** 2,(1,2,3,4,5,6,7,8,9,10)))"
   ]
  },
  {
   "cell_type": "code",
   "execution_count": 10,
   "id": "268922a3",
   "metadata": {},
   "outputs": [
    {
     "data": {
      "text/plain": [
       "[2, 8, 18, 32]"
      ]
     },
     "execution_count": 10,
     "metadata": {},
     "output_type": "execute_result"
    }
   ],
   "source": [
    "liste1 = [1,2,3,4]\n",
    "liste2 = [2,4,6,8,10]\n",
    "\n",
    "list(map(lambda x , y : x * y , liste1,liste2))"
   ]
  },
  {
   "cell_type": "code",
   "execution_count": null,
   "id": "55f783bd",
   "metadata": {},
   "outputs": [],
   "source": []
  },
  {
   "cell_type": "code",
   "execution_count": null,
   "id": "d78914a0",
   "metadata": {},
   "outputs": [],
   "source": [
    "\"\"\"\n",
    "    Bir mağazadaki ürünlerin fiyatlarından\n",
    "    oluşan bir listeye sahip olduğumuzu düşünüyoruz.\n",
    "    Amacımız bütün ürünlerde eşit oranda indirim yapmak.\n",
    "\"\"\"\n",
    "price = [\n",
    "    15.2,\n",
    "    17,\n",
    "    10,\n",
    "    22.9,\n",
    "    16.5,\n",
    "    7.7,\n",
    "    11\n",
    "]\n",
    "\n",
    "\"\"\"\n",
    "    Her ürüne %20 oranında indirim \n",
    "    yapabilmek için indirim adında bir fonksiyon tanımlıyoruz.\n",
    "\"\"\"\n",
    "\n",
    "def indirim(x):\n",
    "    return x - ((x*20)/100)\n",
    "\n",
    "sonuc = map(indirim, (price))\n",
    "sonuc = list(sonuc)\n",
    "print(sonuc)\n",
    "\n",
    "\n",
    "\n"
   ]
  },
  {
   "cell_type": "code",
   "execution_count": null,
   "id": "a0c7acf3",
   "metadata": {},
   "outputs": [],
   "source": []
  }
 ],
 "metadata": {
  "kernelspec": {
   "display_name": "Python 3",
   "language": "python",
   "name": "python3"
  },
  "language_info": {
   "codemirror_mode": {
    "name": "ipython",
    "version": 3
   },
   "file_extension": ".py",
   "mimetype": "text/x-python",
   "name": "python",
   "nbconvert_exporter": "python",
   "pygments_lexer": "ipython3",
   "version": "3.8.8"
  }
 },
 "nbformat": 4,
 "nbformat_minor": 5
}

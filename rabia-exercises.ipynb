{
 "cells": [
  {
   "cell_type": "code",
   "execution_count": null,
   "metadata": {},
   "outputs": [],
   "source": []
  },
  {
   "cell_type": "code",
   "execution_count": null,
   "metadata": {},
   "outputs": [],
   "source": []
  },
  {
   "cell_type": "raw",
   "metadata": {
    "id": "1JLd0GWdEPr5"
   },
   "source": [
    "                              Question 1 \n",
    "\n",
    "It takes 21 seconds to wash your hands and help prevent the spread of COVID-19.\n",
    "\n",
    "Create a function that takes the number of times a person washes their hands per day N and the number of months they follow this routine nM and calculates the duration in minutes and seconds that person spends washing their hands.\n",
    "\n",
    "Examples\n",
    "\n",
    "(8, 7) ➞ \"588 minutes and 0 seconds\"\n",
    "\n",
    "\n",
    "(0, 0) ➞ \"0 minutes and 0 seconds\"\n",
    "\n",
    "\n",
    "(7, 9) ➞ \"661 minutes and 30 seconds\"\n",
    "\n",
    "Notes\n",
    "\n",
    "Consider a month has 30 days.\n",
    "\n",
    "Wash your hands."
   ]
  },
  {
   "cell_type": "code",
   "execution_count": null,
   "metadata": {
    "colab": {
     "base_uri": "https://localhost:8080/"
    },
    "id": "7slLVLf1EUci",
    "outputId": "1a1ab4de-e6de-4a4c-fbd0-c2e74a956008"
   },
   "outputs": [
    {
     "name": "stdout",
     "output_type": "stream",
     "text": [
      "8 7\n",
      "588 minutes and 0 seconds\n"
     ]
    }
   ],
   "source": [
    "per_day, months = list(map(int, input().split()))\n",
    "\n",
    "total_seconds = 21 * per_day * 30 * months\n",
    "minutes  = total_seconds // 60 \n",
    "seconds = total_seconds % 60\n",
    "\n",
    "print(\"{} minutes and {} seconds\".format(minutes, seconds))"
   ]
  },
  {
   "cell_type": "markdown",
   "metadata": {
    "id": "-PLzPpvHYz4N"
   },
   "source": [
    "                              Question 2\n",
    "Write a function that finds the largest even number in a list. Return -1 if not found. The use of built-in functions max() and sorted() are prohibited.\n",
    "\n",
    "Examples\n",
    "\n",
    "[3, 7, 2, 1, 7, 9, 10, 13] ➞ 10\n",
    "\n",
    "[1, 3, 5, 7] ➞ -1\n",
    "\n",
    "[0, 19, 18973623] ➞ 0\n",
    "\n",
    "Notes\n",
    "\n",
    "Consider using the modulo operator % or the bitwise and operator &."
   ]
  },
  {
   "cell_type": "markdown",
   "metadata": {
    "id": "4S5y_WlG0XTu"
   },
   "source": []
  },
  {
   "cell_type": "code",
   "execution_count": 4,
   "metadata": {
    "colab": {
     "base_uri": "https://localhost:8080/"
    },
    "id": "kTNhoxEhGsXe",
    "outputId": "b939ebca-ac0d-41b4-8d22-cd50ecb6a3b2"
   },
   "outputs": [
    {
     "name": "stdout",
     "output_type": "stream",
     "text": [
      "10\n"
     ]
    }
   ],
   "source": [
    "arry = [3, 7, 2, 1, 7, 9, 10, 13]\n",
    "max_even = -1\n",
    "\n",
    "for i in arry :\n",
    "  if i % 2 == 0 and i > max_even :\n",
    "    max_even = i\n",
    "\n",
    "print(max_even)"
   ]
  },
  {
   "cell_type": "markdown",
   "metadata": {
    "id": "e3-YdrEanV4q"
   },
   "source": [
    "                              Question 3\n",
    "\n",
    "Create a function that determines whether a number is Oddish or Evenish. A number is Oddish if the sum of all of its digits is odd, and a number is Evenish if the sum of all of its digits is even. If a number is Oddish, return \"Oddish\". Otherwise, return \"Evenish\".\n",
    "\n",
    "\n",
    "For example, (121) should return \"Evenish\", since 1 + 2 + 1 = 4. (41) should return \"Oddish\", since 4 + 1 = 5.\n",
    "\n",
    "Examples\n",
    "\n",
    "(43) ➞ \"Oddish\"\n",
    "\n",
    "4 + 3 = 7\n",
    "\n",
    "7 % 2 = 1\n",
    "\n",
    "\n",
    "(373) ➞ \"Oddish\"\n",
    "\n",
    "3 + 7 + 3 = 13\n",
    "\n",
    "13 % 2 = 1\n",
    "\n",
    "(4433) ➞ \"Evenish\"\n",
    "\n",
    "4 + 4 + 3 + 3 = 14\n",
    "\n",
    "14 % 2 = 0"
   ]
  },
  {
   "cell_type": "code",
   "execution_count": null,
   "metadata": {
    "colab": {
     "base_uri": "https://localhost:8080/"
    },
    "id": "71hreEfhnn7e",
    "outputId": "5fe17bd0-ea61-4d02-e6b6-97382cc10e16"
   },
   "outputs": [
    {
     "name": "stdout",
     "output_type": "stream",
     "text": [
      "43\n",
      "Oddish\n",
      "Oddish\n"
     ]
    }
   ],
   "source": [
    "num = input(\"\")\n",
    "total = 0\n",
    "\n",
    "for i in num :\n",
    "  total += int(i)\n",
    "\n",
    "if total % 2 : \n",
    "  print(\"Oddish\")\n",
    "else :\n",
    "  print(\"Evenish\")\n",
    "\n",
    "# print(\"Evenish\" if total % 2 == 0 else \"Oddish\" )"
   ]
  },
  {
   "cell_type": "markdown",
   "metadata": {
    "id": "6SW4JvyypeRf"
   },
   "source": [
    "                              Question 4\n",
    "\n",
    "Program to print pyramid a using numbers.(User enter the numbers of rows)\n",
    "\n",
    "\n"
   ]
  },
  {
   "cell_type": "code",
   "execution_count": null,
   "metadata": {
    "id": "HCNGCa7Cn5WA"
   },
   "outputs": [],
   "source": [
    "# 1\n",
    "# 2 2\n",
    "# 3 3 3\n",
    "# 4 4 4 4\n",
    "# 5 5 5 5 5"
   ]
  },
  {
   "cell_type": "code",
   "execution_count": null,
   "metadata": {
    "colab": {
     "base_uri": "https://localhost:8080/"
    },
    "id": "9bbqKH0ipp6Z",
    "outputId": "f9501900-095a-43c1-e9b2-55227f7f3e18"
   },
   "outputs": [
    {
     "name": "stdout",
     "output_type": "stream",
     "text": [
      "5\n",
      "1 \n",
      "2 2 \n",
      "3 3 3 \n",
      "4 4 4 4 \n",
      "5 5 5 5 5 \n"
     ]
    }
   ],
   "source": [
    "rows = int(input(\"\"))\n",
    "\n",
    "for i in range(1, rows+1) :\n",
    "  print(i * (str(i)+ \" \"))\n"
   ]
  },
  {
   "cell_type": "code",
   "execution_count": 6,
   "metadata": {
    "colab": {
     "base_uri": "https://localhost:8080/"
    },
    "id": "UtYLtYwARZQB",
    "outputId": "49a441d4-54ac-457d-faf5-ba715f45b1e8"
   },
   "outputs": [
    {
     "name": "stdout",
     "output_type": "stream",
     "text": [
      "5\n",
      "1\n",
      "2 2\n",
      "3 3 3\n",
      "4 4 4 4\n",
      "5 5 5 5 5\n"
     ]
    }
   ],
   "source": [
    "rows = int(input(\"\"))\n",
    "\n",
    "for i in range(1, rows+1) :\n",
    "  print(* (i * str(i)))"
   ]
  },
  {
   "cell_type": "markdown",
   "metadata": {
    "id": "-Nl2zy23_GZF"
   },
   "source": [
    "                              Question 5\n",
    "Fruit salads are served best when the fruits are sliced and diced into small chunks!\n",
    "\n",
    "For this challenge, slice each fruit in half and sort the chunks alphabetically. This recipe tastes best when the chunks are joined together to make a string.\n",
    "\n",
    "Worked Example\n",
    "\n",
    "[\"apple\", \"pear\", \"grapes\"] ➞ \"apargrapepesple\"\n",
    "\n",
    "Chunks: [\"ap\", \"ple\", \"pe\", \"ar\", \"gra\", \"pes\"]\n",
    "\n",
    "Sorted chunks: [\"ap\", \"ar\", \"gra\", \"pe\", \"pes\", \"ple\"]\n",
    "\n",
    "Final string: \"apargrapepesple\"\n",
    "\n",
    "Examples\n",
    "\n",
    "[\"apple\", \"pear\", \"grapes\"] ➞ \"apargrapepesple\"\n",
    "\n",
    "[\"raspberries\", \"mango\"] ➞ \"erriesmangoraspb\"\n",
    "\n",
    "[\"banana\"] ➞ \"anaban\"\n",
    "\n",
    "Notes\n",
    "\n",
    "If a fruit has an odd number of letters, make the right side larger than the left.\n",
    "\n",
    "For example: \"apple\" will be sliced into \"ap\" and \"ple\".\n",
    "\n",
    "All fruits will be given in lowercase.\n"
   ]
  },
  {
   "cell_type": "code",
   "execution_count": null,
   "metadata": {
    "colab": {
     "base_uri": "https://localhost:8080/",
     "height": 35
    },
    "id": "OzwlU_tKqGnp",
    "outputId": "b4c332d2-3f8e-444b-ad6f-87635e806401"
   },
   "outputs": [
    {
     "data": {
      "application/vnd.google.colaboratory.intrinsic+json": {
       "type": "string"
      },
      "text/plain": [
       "'apargrapepesple'"
      ]
     },
     "execution_count": 49,
     "metadata": {},
     "output_type": "execute_result"
    }
   ],
   "source": [
    "arry = [\"apple\", \"pear\", \"grapes\"]\n",
    "new_arry = []\n",
    "for i in arry :\n",
    "  new_arry += [i[: len(i)//2]]\n",
    "  new_arry += [i[len(i)//2 :]]\n",
    "\n",
    "salad = \"\".join(sorted(new_arry))\n",
    "salad\n"
   ]
  },
  {
   "cell_type": "markdown",
   "metadata": {
    "id": "cs223v9PJ7pZ"
   },
   "source": [
    "                                Question 6\n",
    "Given a positive integer N, The task is to write a Python program to check if the number is prime or not.\n",
    "\n",
    "Definition:\n",
    "\n",
    "A prime number is a natural number greater than 1 that has no positive divisors other than 1 and itself. \n",
    "\n",
    "The first few prime numbers are {2, 3, 5, 7, 11, ….}."
   ]
  },
  {
   "cell_type": "code",
   "execution_count": null,
   "metadata": {
    "colab": {
     "base_uri": "https://localhost:8080/"
    },
    "id": "5NXTUNxaAcFE",
    "outputId": "bc944332-279a-4681-e382-5a4c2e05a00a"
   },
   "outputs": [
    {
     "name": "stdout",
     "output_type": "stream",
     "text": [
      "Please enter a number : 15\n",
      "False\n"
     ]
    }
   ],
   "source": [
    "number = int(input(\"Please enter a number : \"))\n",
    "\n",
    "for i in range(2,number) :\n",
    "  if number % i == 0 :\n",
    "    print(False)\n",
    "    break\n",
    "else :\n",
    "  print(True)"
   ]
  },
  {
   "cell_type": "code",
   "execution_count": 13,
   "metadata": {
    "colab": {
     "base_uri": "https://localhost:8080/"
    },
    "id": "BUsMbq5VTPng",
    "outputId": "97a237f4-1122-44bd-b923-de60a26c8e34"
   },
   "outputs": [
    {
     "name": "stdout",
     "output_type": "stream",
     "text": [
      "Please enter a number : 12\n",
      "False\n"
     ]
    }
   ],
   "source": [
    "number = int(input(\"Please enter a number : \"))\n",
    "division = []\n",
    "for i in range(1,number+1) :\n",
    "  if number % i == 0 :\n",
    "    division += [i]\n",
    "print(\"False\" if len(division) > 2 else \"True\")\n"
   ]
  },
  {
   "cell_type": "markdown",
   "metadata": {
    "id": "MREI8cLgLS9k"
   },
   "source": [
    "                                Question 7\n",
    "Create a function that takes a word and extends all vowels by a number num.\n",
    "\n",
    "Examples\n",
    "\n",
    "\n",
    "\"Hello\", 5 ➞ \"Heeeeeelloooooo\"\n",
    "\n",
    "\"Edabit\", 3 ➞ \"EEEEdaaaabiiiit\"\n",
    "\n",
    "\"Extend\", 0 ➞ \"Extend\"\n"
   ]
  },
  {
   "cell_type": "code",
   "execution_count": null,
   "metadata": {
    "colab": {
     "base_uri": "https://localhost:8080/"
    },
    "id": "TVjE6c2bKoWE",
    "outputId": "0b975392-1f73-4593-f755-52b07172bfe5"
   },
   "outputs": [
    {
     "name": "stdout",
     "output_type": "stream",
     "text": [
      "Please enter a word : edabit\n",
      "1\n",
      "edabit\n"
     ]
    }
   ],
   "source": [
    "word = input(\"Please enter a word : \")\n",
    "num = int(input(\"\"))\n",
    "vowels =\"aeiouAEIOU\"\n",
    "new_w = \"\"\n",
    "\n",
    "for i in word :\n",
    "  if i in vowels and num > 0 :\n",
    "    new_w += i * (num + 1)\n",
    "  elif i in vowels and num == 0 :\n",
    "    new_w += i \n",
    "  else :\n",
    "    new_w += i \n",
    "\n",
    "print(new_w)\n",
    "\n"
   ]
  },
  {
   "cell_type": "code",
   "execution_count": null,
   "metadata": {
    "id": "zUtCbYmwMZB5"
   },
   "outputs": [],
   "source": []
  }
 ],
 "metadata": {
  "colab": {
   "collapsed_sections": [],
   "name": "ws-4(lead).ipynb",
   "provenance": []
  },
  "kernelspec": {
   "display_name": "Python 3",
   "language": "python",
   "name": "python3"
  },
  "language_info": {
   "codemirror_mode": {
    "name": "ipython",
    "version": 3
   },
   "file_extension": ".py",
   "mimetype": "text/x-python",
   "name": "python",
   "nbconvert_exporter": "python",
   "pygments_lexer": "ipython3",
   "version": "3.8.8"
  }
 },
 "nbformat": 4,
 "nbformat_minor": 1
}

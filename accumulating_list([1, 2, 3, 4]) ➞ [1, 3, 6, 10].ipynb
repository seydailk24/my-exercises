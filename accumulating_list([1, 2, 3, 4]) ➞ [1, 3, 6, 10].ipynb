{
 "cells": [
  {
   "cell_type": "code",
   "execution_count": null,
   "id": "bc525afe",
   "metadata": {},
   "outputs": [],
   "source": [
    "Question 4\n",
    "https://edabit.com/challenge/6CGomPbu3dK536PH2\n",
    "\n",
    "Create a function that takes in a list and returns a list of the accumulating sum.\n",
    "\n",
    "accumulating_list([1, 2, 3, 4]) ➞ [1, 3, 6, 10]\n",
    "# [1, 3, 6, 10] can be written as  [1, 1 + 2, 1 + 2 + 3, 1 + 2 + 3 + 4]\n",
    "\n",
    "accumulating_list([1, 5, 7]) ➞ [1, 6, 13]\n",
    "\n",
    "accumulating_list([1, 0, 1, 0, 1]) ➞ [1, 1, 2, 2, 3]\n",
    "\n",
    "accumulating_list([]) ➞ []\n",
    "\n",
    "An empty list input [] should return an empty list [].\n"
   ]
  },
  {
   "cell_type": "code",
   "execution_count": 1,
   "id": "20765ee6",
   "metadata": {},
   "outputs": [
    {
     "name": "stdout",
     "output_type": "stream",
     "text": [
      "[1, 3, 6, 10]\n"
     ]
    }
   ],
   "source": [
    "def accumulating_list(lst):\n",
    "    k = 0\n",
    "    t = []\n",
    "    for i in range(len(lst)):\n",
    "        k = k + lst[i]\n",
    "        \n",
    "        t.append(k)\n",
    "    return t\n",
    "print(accumulating_list([1, 2, 3, 4]))"
   ]
  },
  {
   "cell_type": "code",
   "execution_count": null,
   "id": "85512da6",
   "metadata": {},
   "outputs": [],
   "source": []
  }
 ],
 "metadata": {
  "kernelspec": {
   "display_name": "Python 3",
   "language": "python",
   "name": "python3"
  },
  "language_info": {
   "codemirror_mode": {
    "name": "ipython",
    "version": 3
   },
   "file_extension": ".py",
   "mimetype": "text/x-python",
   "name": "python",
   "nbconvert_exporter": "python",
   "pygments_lexer": "ipython3",
   "version": "3.8.8"
  }
 },
 "nbformat": 4,
 "nbformat_minor": 5
}

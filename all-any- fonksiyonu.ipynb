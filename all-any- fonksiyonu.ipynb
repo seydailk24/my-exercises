{
 "cells": [
  {
   "cell_type": "code",
   "execution_count": 2,
   "id": "1582d542",
   "metadata": {},
   "outputs": [],
   "source": [
    "def hepsi(liste):\n",
    "    for i in liste:\n",
    "        if not i:\n",
    "            return False\n",
    "    return True\n",
    "# Bütün değerler True ise True en az birisi False ise False döndürmek istiyoruz.\n",
    "liste = [True,False,True,False,True]\n",
    "        "
   ]
  },
  {
   "cell_type": "code",
   "execution_count": 3,
   "id": "cd7881d5",
   "metadata": {},
   "outputs": [
    {
     "data": {
      "text/plain": [
       "False"
      ]
     },
     "execution_count": 3,
     "metadata": {},
     "output_type": "execute_result"
    }
   ],
   "source": [
    "hepsi(liste) # En az birisi False"
   ]
  },
  {
   "cell_type": "code",
   "execution_count": 4,
   "id": "453f7dbe",
   "metadata": {},
   "outputs": [
    {
     "data": {
      "text/plain": [
       "True"
      ]
     },
     "execution_count": 4,
     "metadata": {},
     "output_type": "execute_result"
    }
   ],
   "source": [
    "liste = [1,2,3,4,5] # Daha önceden biliyoruz. 0' haricinde bütün sayılar True sayılmaktadır.\n",
    "\n",
    "hepsi(liste) # Hepsi True"
   ]
  },
  {
   "cell_type": "code",
   "execution_count": 5,
   "id": "e58f7964",
   "metadata": {},
   "outputs": [],
   "source": [
    "def herhangi(liste):\n",
    "    for i in liste:\n",
    "        if i:\n",
    "            return True\n",
    "    return False\n",
    "# Herhangi bir değer True ise True, Hepsi False ise False döndürmek istiyoruz."
   ]
  },
  {
   "cell_type": "code",
   "execution_count": 6,
   "id": "5b864dd4",
   "metadata": {},
   "outputs": [
    {
     "data": {
      "text/plain": [
       "True"
      ]
     },
     "execution_count": 6,
     "metadata": {},
     "output_type": "execute_result"
    }
   ],
   "source": [
    "liste = [True,False,True,False,True]\n",
    "herhangi(liste)"
   ]
  },
  {
   "cell_type": "code",
   "execution_count": 7,
   "id": "65478d57",
   "metadata": {},
   "outputs": [
    {
     "data": {
      "text/plain": [
       "False"
      ]
     },
     "execution_count": 7,
     "metadata": {},
     "output_type": "execute_result"
    }
   ],
   "source": [
    "liste = [0,0,0,0,0,0,0] # Bütün değerler False , 0 = False\n",
    "herhangi(liste)\n"
   ]
  },
  {
   "cell_type": "code",
   "execution_count": null,
   "id": "4752a4d3",
   "metadata": {},
   "outputs": [],
   "source": [
    "all() fonksiyonu bütün değerler True ise True, en az bir değer False ise False sonuç döndürür."
   ]
  },
  {
   "cell_type": "code",
   "execution_count": 8,
   "id": "9d637dd6",
   "metadata": {},
   "outputs": [
    {
     "data": {
      "text/plain": [
       "True"
      ]
     },
     "execution_count": 8,
     "metadata": {},
     "output_type": "execute_result"
    }
   ],
   "source": [
    "liste = [1,2,3,4,5]\n",
    "all(liste)"
   ]
  },
  {
   "cell_type": "code",
   "execution_count": 9,
   "id": "1a9a397e",
   "metadata": {},
   "outputs": [
    {
     "data": {
      "text/plain": [
       "True"
      ]
     },
     "execution_count": 9,
     "metadata": {},
     "output_type": "execute_result"
    }
   ],
   "source": [
    "#any() fonksiyonu bütün değerler False ise False, en az bir değer True ise True sonuç döndürür.\n",
    "\n",
    "liste = [True,False,True,False,True]\n",
    "any(liste)"
   ]
  },
  {
   "cell_type": "code",
   "execution_count": 10,
   "id": "b3b078de",
   "metadata": {},
   "outputs": [],
   "source": [
    "liste = [0,0,0,0,0,0,0]"
   ]
  },
  {
   "cell_type": "code",
   "execution_count": 11,
   "id": "58af071c",
   "metadata": {},
   "outputs": [
    {
     "data": {
      "text/plain": [
       "False"
      ]
     },
     "execution_count": 11,
     "metadata": {},
     "output_type": "execute_result"
    }
   ],
   "source": [
    "any(liste)"
   ]
  },
  {
   "cell_type": "code",
   "execution_count": null,
   "id": "6b9c1714",
   "metadata": {},
   "outputs": [],
   "source": []
  }
 ],
 "metadata": {
  "kernelspec": {
   "display_name": "Python 3",
   "language": "python",
   "name": "python3"
  },
  "language_info": {
   "codemirror_mode": {
    "name": "ipython",
    "version": 3
   },
   "file_extension": ".py",
   "mimetype": "text/x-python",
   "name": "python",
   "nbconvert_exporter": "python",
   "pygments_lexer": "ipython3",
   "version": "3.8.8"
  }
 },
 "nbformat": 4,
 "nbformat_minor": 5
}

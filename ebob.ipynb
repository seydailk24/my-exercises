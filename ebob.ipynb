{
 "cells": [
  {
   "cell_type": "code",
   "execution_count": null,
   "id": "73ffc47b",
   "metadata": {},
   "outputs": [],
   "source": [
    "def ebob_bulma(sayı1,sayı2):\n",
    "    \n",
    "    i = 1\n",
    "    ebob = 1\n",
    "    while (i <= sayı1 and i <= sayı2 ):\n",
    "\n",
    "        if ( not (sayı1 % i) and not (sayı2 % i)):\n",
    "            ebob = i\n",
    "        i += 1\n",
    "    return ebob\n",
    "sayı1 = int(input(\"Sayı-1:\"))\n",
    "sayı2 = int(input(\"Sayı-2:\"))\n",
    "\n",
    "print(\"Ebob:\",ebob_bulma(sayı1,sayı2))\n",
    "\n",
    "            "
   ]
  }
 ],
 "metadata": {
  "kernelspec": {
   "display_name": "Python 3",
   "language": "python",
   "name": "python3"
  },
  "language_info": {
   "codemirror_mode": {
    "name": "ipython",
    "version": 3
   },
   "file_extension": ".py",
   "mimetype": "text/x-python",
   "name": "python",
   "nbconvert_exporter": "python",
   "pygments_lexer": "ipython3",
   "version": "3.8.8"
  }
 },
 "nbformat": 4,
 "nbformat_minor": 5
}

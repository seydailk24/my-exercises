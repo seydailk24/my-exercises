{
 "cells": [
  {
   "cell_type": "code",
   "execution_count": 1,
   "id": "a0d25ba7",
   "metadata": {},
   "outputs": [
    {
     "name": "stdout",
     "output_type": "stream",
     "text": [
      "seyda omer defne ilk\n"
     ]
    }
   ],
   "source": [
    "#seek() ve write()\n",
    "#Eğer biz bir dosyanın belli bir yerine seek() fonksiyonu ile gidip, write() fonksiyonunu kullanırsak, yazdığımız değerler öncesinde bulunan değerlerin üzerine yazılacaktır. Bunun için hem okuma hem de yazma işlemimizi yapmamızı sağlayan \"r+\" kipini kullanacağız.\n",
    "#İlk önce dosyamızda bilgileri görelim.\n",
    "with open(\"bilgiler.txt\",\"r+\",encoding = \"utf-8\") as file:\n",
    "    print(file.read())"
   ]
  },
  {
   "cell_type": "code",
   "execution_count": 3,
   "id": "10d654d2",
   "metadata": {},
   "outputs": [],
   "source": [
    "with open(\"bilgiler.txt\",\"r+\",encoding = \"utf-8\") as file: \n",
    "    file.seek(10) # 10. byte\n",
    "    file.write(\"Deneme\")"
   ]
  },
  {
   "cell_type": "code",
   "execution_count": 4,
   "id": "80826219",
   "metadata": {},
   "outputs": [
    {
     "name": "stdout",
     "output_type": "stream",
     "text": [
      "seyda omerDeneme ilk\n"
     ]
    }
   ],
   "source": [
    "with open(\"bilgiler.txt\",\"r+\",encoding = \"utf-8\") as file:\n",
    "    print(file.read())"
   ]
  },
  {
   "cell_type": "code",
   "execution_count": 5,
   "id": "35af9c7b",
   "metadata": {},
   "outputs": [],
   "source": [
    "#Dosyanın Sonunda Değişiklik Yapmak\n",
    "#Bu işlemlerin en kolayıyla başlayalım. \n",
    "#Dosyaların sonunda değişiklik yapmak için, dosyamızı \"a\" kipiyle açalım\n",
    "#ve sadece dosyanın sonuna write() ile ekleme yapalım.\n",
    "\n",
    "with open(\"bilgiler.txt\",\"a\",encoding = \"utf-8\") as file:\n",
    "    file.write(\"Mert Erarslan\\n\") # \"append\" metoduyla açılan bir dosyanın imleci direk dosyanın sonunda olduğu için sadece write\n"
   ]
  },
  {
   "cell_type": "code",
   "execution_count": 6,
   "id": "dc622a10",
   "metadata": {},
   "outputs": [
    {
     "name": "stdout",
     "output_type": "stream",
     "text": [
      "seyda omerDeneme ilkMert Erarslan\n",
      "\n"
     ]
    }
   ],
   "source": [
    "with open(\"bilgiler.txt\",\"r\",encoding = \"utf-8\") as file:\n",
    "    print(file.read())\n"
   ]
  },
  {
   "cell_type": "code",
   "execution_count": 7,
   "id": "45d2305e",
   "metadata": {},
   "outputs": [
    {
     "name": "stdout",
     "output_type": "stream",
     "text": [
      "seyda omerDeneme ilkMert Erarslan\n",
      "\n"
     ]
    }
   ],
   "source": [
    "#Dosyanın Başında Değişiklik Yapmak\n",
    "#\"bilgiler.txt\" dosyamızın başına bir tane satır eklemek için ne yapabiliriz ? \n",
    "#Bunun için dosyamızı bütünüyle string halinde alıp daha sonra satırımızı string'in başına eklememiz gerekiyor.\n",
    "#Daha sonra dosyanın en başına seek() fonksiyonuyla giderek ,direk write() fonksiyonunu kullanabiliriz. Hemen yapalım.\n",
    "\n",
    "\n",
    "with open(\"bilgiler.txt\",\"r+\",encoding = \"utf-8\") as file:\n",
    "    icerik = file.read()\n",
    "    print(icerik)\n",
    "    "
   ]
  },
  {
   "cell_type": "code",
   "execution_count": 8,
   "id": "4da8d607",
   "metadata": {},
   "outputs": [],
   "source": [
    "with open(\"bilgiler.txt\",\"r+\",encoding = \"utf-8\") as file:\n",
    "    icerik = file.read()\n",
    "    \n",
    "    icerik = \"Semih Aktaş\\n\" + icerik\n",
    "    file.seek(0)\n",
    "    file.write(icerik)"
   ]
  },
  {
   "cell_type": "code",
   "execution_count": 9,
   "id": "c24b5441",
   "metadata": {},
   "outputs": [
    {
     "name": "stdout",
     "output_type": "stream",
     "text": [
      "Semih Aktaş\n",
      "seyda omerDeneme ilkMert Erarslan\n",
      "\n"
     ]
    }
   ],
   "source": [
    "with open(\"bilgiler.txt\",\"r+\",encoding = \"utf-8\") as file:\n",
    "    icerik = file.read()\n",
    "    print(icerik)\n"
   ]
  },
  {
   "cell_type": "code",
   "execution_count": null,
   "id": "0a321475",
   "metadata": {},
   "outputs": [],
   "source": [
    "Dosyanın Ortasında Değişiklik Yapmak\n",
    "Dosyaların ortasına herhangi bir satır eklemek için ilk olarak her bir satırı liste halinde almamızı sağlayan readlines() fonksiyonunu kullanacağız. Daha sonra bu listenin herhangi bir yerine bir eleman ekleyerek bu listeyi for döngüsü ile dosyaya yazacağız."
   ]
  }
 ],
 "metadata": {
  "kernelspec": {
   "display_name": "Python 3",
   "language": "python",
   "name": "python3"
  },
  "language_info": {
   "codemirror_mode": {
    "name": "ipython",
    "version": 3
   },
   "file_extension": ".py",
   "mimetype": "text/x-python",
   "name": "python",
   "nbconvert_exporter": "python",
   "pygments_lexer": "ipython3",
   "version": "3.8.8"
  }
 },
 "nbformat": 4,
 "nbformat_minor": 5
}

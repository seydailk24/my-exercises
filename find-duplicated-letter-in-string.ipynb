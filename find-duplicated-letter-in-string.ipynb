{
 "cells": [
  {
   "cell_type": "code",
   "execution_count": null,
   "id": "4383dcfb",
   "metadata": {},
   "outputs": [],
   "source": [
    "#An isogram is a word that has no duplicate letters. Create a function that takes a string and returns either True or False depending on whether or not it's an \"isogram\".\n",
    "\n",
    "#is_isogram(\"Algorism\") ➞ True\n",
    "\n",
    "#is_isogram(\"PasSword\") ➞ False\n",
    "# Not case sensitive.\n",
    "\n",
    "#is_isogram(\"Consecutive\") ➞ False\n",
    "\n",
    "#Notes\n",
    "#Ignore letter case (should not be case sensitive).\n",
    "#All test cases contain valid one word strings."
   ]
  },
  {
   "cell_type": "code",
   "execution_count": 2,
   "id": "278041ac",
   "metadata": {},
   "outputs": [
    {
     "name": "stdout",
     "output_type": "stream",
     "text": [
      "False\n"
     ]
    }
   ],
   "source": [
    "def is_isogram(txt):\n",
    "    return len(txt) ==len(set(txt.lower()))\n",
    "print(is_isogram(\"PasSword\"))"
   ]
  },
  {
   "cell_type": "code",
   "execution_count": 3,
   "id": "2d4555b3",
   "metadata": {},
   "outputs": [
    {
     "name": "stdout",
     "output_type": "stream",
     "text": [
      "True\n"
     ]
    }
   ],
   "source": [
    "def is_isogram(txt):\n",
    "    return len(txt) ==len(set(txt.lower()))\n",
    "print(is_isogram(\"Algorism\"))"
   ]
  },
  {
   "cell_type": "code",
   "execution_count": 4,
   "id": "0c5976ba",
   "metadata": {},
   "outputs": [
    {
     "name": "stdout",
     "output_type": "stream",
     "text": [
      "False\n"
     ]
    }
   ],
   "source": [
    "def is_isogram(txt):\n",
    "    return len(txt) ==len(set(txt.lower()))\n",
    "print(is_isogram(\"Consecutive\"))"
   ]
  },
  {
   "cell_type": "code",
   "execution_count": 8,
   "id": "ffb1b289",
   "metadata": {},
   "outputs": [
    {
     "name": "stdout",
     "output_type": "stream",
     "text": [
      "False\n"
     ]
    }
   ],
   "source": [
    "#solution2\n",
    "\n",
    "\n",
    "def is_isogram(txt):\n",
    "    t =[]\n",
    "    for i in txt.lower():\n",
    "        for i in t:\n",
    "            t.append(i)\n",
    "    return sorted(t) == sorted(txt.lower())\n",
    "            \n",
    "print(is_isogram(\"Consecutive\"))\n",
    "            \n",
    "        "
   ]
  },
  {
   "cell_type": "code",
   "execution_count": null,
   "id": "cf526160",
   "metadata": {},
   "outputs": [],
   "source": []
  }
 ],
 "metadata": {
  "kernelspec": {
   "display_name": "Python 3",
   "language": "python",
   "name": "python3"
  },
  "language_info": {
   "codemirror_mode": {
    "name": "ipython",
    "version": 3
   },
   "file_extension": ".py",
   "mimetype": "text/x-python",
   "name": "python",
   "nbconvert_exporter": "python",
   "pygments_lexer": "ipython3",
   "version": "3.8.8"
  }
 },
 "nbformat": 4,
 "nbformat_minor": 5
}

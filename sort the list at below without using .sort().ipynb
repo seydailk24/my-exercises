{
 "cells": [
  {
   "cell_type": "code",
   "execution_count": null,
   "id": "61ad2ed0",
   "metadata": {},
   "outputs": [],
   "source": [
    "# Write a Python code to sort the list at below without using .sort() method of list. \n",
    "#elements of list = [999, 333, 2, 8982, 12, 45, 77, 99, 11] \n",
    "#Expected output: [2, 11, 12, 45, 77, 99, 333, 999, 8982]\n",
    "\n"
   ]
  },
  {
   "cell_type": "code",
   "execution_count": 1,
   "id": "fb9069eb",
   "metadata": {},
   "outputs": [
    {
     "name": "stdout",
     "output_type": "stream",
     "text": [
      "[2, 11, 12, 45, 77, 99, 333, 999, 8982]\n"
     ]
    }
   ],
   "source": [
    "list_ = [999, 333, 2, 8982, 12, 45, 77, 99, 11]\n",
    "new_list = []\n",
    "while list_:\n",
    "    min_element = list_[0]\n",
    "    for i in list_:\n",
    "        if i < min_element:\n",
    "            min_element = i\n",
    "    new_list.append(min_element)\n",
    "    list_.remove(min_element)\n",
    "print(new_list)\n",
    "\n"
   ]
  },
  {
   "cell_type": "code",
   "execution_count": null,
   "id": "38fcb61e",
   "metadata": {},
   "outputs": [],
   "source": []
  }
 ],
 "metadata": {
  "kernelspec": {
   "display_name": "Python 3",
   "language": "python",
   "name": "python3"
  },
  "language_info": {
   "codemirror_mode": {
    "name": "ipython",
    "version": 3
   },
   "file_extension": ".py",
   "mimetype": "text/x-python",
   "name": "python",
   "nbconvert_exporter": "python",
   "pygments_lexer": "ipython3",
   "version": "3.8.8"
  }
 },
 "nbformat": 4,
 "nbformat_minor": 5
}

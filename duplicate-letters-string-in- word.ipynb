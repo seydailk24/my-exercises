{
 "cells": [
  {
   "cell_type": "code",
   "execution_count": null,
   "id": "4f8ba7b5",
   "metadata": {},
   "outputs": [],
   "source": [
    "#Question 3\n",
    "#https://edabit.com/challenge/fmQ9QvPBWL7N9hSkq\n",
    "\n",
    "#Write a function that takes a string, and returns a new string with any duplicate consecutive letters removed.\n",
    "\n",
    "#unstretch(\"ppoeemm\") ➞ \"poem\"\n",
    "\n",
    "#unstretch(\"wiiiinnnnd\") ➞ \"wind\"\n",
    "\n",
    "#unstretch(\"ttiiitllleeee\") ➞ \"title\"\n",
    "\n",
    "#unstretch(\"cccccaaarrrbbonnnnn\") ➞ \"carbon\"\n",
    "\n",
    "#Final strings won't include words with double letters (e.g. \"passing\", \"lottery\")."
   ]
  },
  {
   "cell_type": "code",
   "execution_count": 1,
   "id": "597257be",
   "metadata": {},
   "outputs": [
    {
     "name": "stdout",
     "output_type": "stream",
     "text": [
      "carbon\n"
     ]
    }
   ],
   "source": [
    "#solution1\n",
    "\n",
    "def unstrectch(word):\n",
    "    a = word[0]\n",
    "    for i in range(1,len(word)):\n",
    "        if word[i] != a[-1]:\n",
    "            a += word[i]\n",
    "    return a\n",
    "            \n",
    "print(unstrectch('cccccaaarrrbbonnnnn'))"
   ]
  },
  {
   "cell_type": "code",
   "execution_count": null,
   "id": "7fd55e4f",
   "metadata": {},
   "outputs": [],
   "source": []
  },
  {
   "cell_type": "code",
   "execution_count": null,
   "id": "ad3cad0f",
   "metadata": {},
   "outputs": [],
   "source": [
    "\n",
    "    "
   ]
  }
 ],
 "metadata": {
  "kernelspec": {
   "display_name": "Python 3",
   "language": "python",
   "name": "python3"
  },
  "language_info": {
   "codemirror_mode": {
    "name": "ipython",
    "version": 3
   },
   "file_extension": ".py",
   "mimetype": "text/x-python",
   "name": "python",
   "nbconvert_exporter": "python",
   "pygments_lexer": "ipython3",
   "version": "3.8.8"
  }
 },
 "nbformat": 4,
 "nbformat_minor": 5
}

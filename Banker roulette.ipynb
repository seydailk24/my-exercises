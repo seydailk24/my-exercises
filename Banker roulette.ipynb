{
 "cells": [
  {
   "cell_type": "code",
   "execution_count": 7,
   "id": "397b04c3",
   "metadata": {},
   "outputs": [],
   "source": [
    "#You are going to write a program which will select a random name from a list of names. \n",
    "#The person selected will have to pay for everybody's food bill.\n",
    "#Important: You are not allowed to use the choice() function.\n",
    "#Line 8 splits the string names_string into individual names and puts them inside a List called names. \n",
    "#For this to work, you must enter all the names as name followed by comma then space. e.g. name, name, name\n",
    "\n",
    "#Example Input\n",
    "#Angela, Ben, Jenny, Michael, Chloe\n",
    "#Note: notice that there is a space between the comma and the next name.\n",
    "\n",
    "#Example Output\n",
    "#Michael is going to buy the meal today!\n",
    "\n",
    "\n"
   ]
  },
  {
   "cell_type": "code",
   "execution_count": 11,
   "id": "2b2a901c",
   "metadata": {},
   "outputs": [
    {
     "name": "stdout",
     "output_type": "stream",
     "text": [
      "enter everyone's name: sperated by a comma ! Angela, Ben, Jenny, Michael, Chloe\n",
      "['Angela', ' Ben', ' Jenny', ' Michael', ' Chloe']\n",
      "5\n",
      "0\n",
      "Angela is going to buy the meal today!\n"
     ]
    }
   ],
   "source": [
    "import random\n",
    "\n",
    "names_string = input(\"enter everyone's name: sperated by a comma ! \")\n",
    "names = names_string.split(\",\")\n",
    "print(names)\n",
    "\n",
    "numbers_of_items = len(names)\n",
    "print(numbers_of_items)\n",
    "\n",
    "random_choice = random.randint(0, numbers_of_items - 1)\n",
    "print(random_choice)\n",
    "\n",
    "person_who_will_pay = names[random_choice]\n",
    "print(person_who_will_pay + \" is going to buy the meal today!\")\n"
   ]
  },
  {
   "cell_type": "code",
   "execution_count": null,
   "id": "c1681375",
   "metadata": {},
   "outputs": [],
   "source": []
  },
  {
   "cell_type": "code",
   "execution_count": null,
   "id": "69c4443e",
   "metadata": {},
   "outputs": [],
   "source": []
  }
 ],
 "metadata": {
  "kernelspec": {
   "display_name": "Python 3",
   "language": "python",
   "name": "python3"
  },
  "language_info": {
   "codemirror_mode": {
    "name": "ipython",
    "version": 3
   },
   "file_extension": ".py",
   "mimetype": "text/x-python",
   "name": "python",
   "nbconvert_exporter": "python",
   "pygments_lexer": "ipython3",
   "version": "3.8.8"
  }
 },
 "nbformat": 4,
 "nbformat_minor": 5
}

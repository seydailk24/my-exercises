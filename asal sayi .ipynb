{
 "cells": [
  {
   "cell_type": "code",
   "execution_count": null,
   "id": "4848bdf0",
   "metadata": {},
   "outputs": [],
   "source": [
    "#asal sayilar bire ve kendisinden baska bolunmeyen sayilardir "
   ]
  },
  {
   "cell_type": "code",
   "execution_count": null,
   "id": "c8097069",
   "metadata": {},
   "outputs": [],
   "source": [
    "def is_prime_num(num):\n",
    "    \n",
    "    if (num == 1):\n",
    "        return False  #sayimiz asal degldir demek istiyorum\n",
    "    \n",
    "    elif (num == 2):\n",
    "        return True  #sayimiz asal sayi \n",
    "    \n",
    "    else:\n",
    "        for i in range(2,num):\n",
    "            if (num % i == 0):\n",
    "                return False    #sayimiz asal sayi degil \n",
    "        return True\n",
    "    \n",
    "while True: #sayimiz asal sayi iken...\n",
    "    num =input(\"num: \")\n",
    "    if (num == \"q\"):\n",
    "        break\n",
    "        \n",
    "    else:\n",
    "        num = int(num)\n",
    "        if is_prime_num(num):\n",
    "            \n",
    "            print(num, \"is a prime number\")\n",
    "            \n",
    "        else:\n",
    "            print(num, \"is a not prime number\")\n",
    "            \n",
    "    \n",
    "        \n",
    "\n"
   ]
  },
  {
   "cell_type": "code",
   "execution_count": null,
   "id": "8132ee9f",
   "metadata": {},
   "outputs": [],
   "source": []
  },
  {
   "cell_type": "code",
   "execution_count": null,
   "id": "db73f37e",
   "metadata": {},
   "outputs": [],
   "source": []
  },
  {
   "cell_type": "code",
   "execution_count": null,
   "id": "8094b679",
   "metadata": {},
   "outputs": [],
   "source": []
  },
  {
   "cell_type": "code",
   "execution_count": null,
   "id": "2201bf0f",
   "metadata": {},
   "outputs": [],
   "source": []
  },
  {
   "cell_type": "code",
   "execution_count": null,
   "id": "8e0025ef",
   "metadata": {},
   "outputs": [],
   "source": []
  },
  {
   "cell_type": "code",
   "execution_count": null,
   "id": "af213ed6",
   "metadata": {},
   "outputs": [],
   "source": []
  }
 ],
 "metadata": {
  "kernelspec": {
   "display_name": "Python 3",
   "language": "python",
   "name": "python3"
  },
  "language_info": {
   "codemirror_mode": {
    "name": "ipython",
    "version": 3
   },
   "file_extension": ".py",
   "mimetype": "text/x-python",
   "name": "python",
   "nbconvert_exporter": "python",
   "pygments_lexer": "ipython3",
   "version": "3.8.8"
  }
 },
 "nbformat": 4,
 "nbformat_minor": 5
}

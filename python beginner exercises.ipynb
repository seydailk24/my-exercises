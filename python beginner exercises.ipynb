{
 "cells": [
  {
   "cell_type": "code",
   "execution_count": 1,
   "id": "483e9bb1",
   "metadata": {},
   "outputs": [
    {
     "data": {
      "text/plain": [
       "2.5"
      ]
     },
     "execution_count": 1,
     "metadata": {},
     "output_type": "execute_result"
    }
   ],
   "source": [
    "5 / 2  #5 in 2 ye tam bolumunun sonucunu verir noktasi virgulune kdr \n"
   ]
  },
  {
   "cell_type": "code",
   "execution_count": 2,
   "id": "aea77aa3",
   "metadata": {},
   "outputs": [
    {
     "data": {
      "text/plain": [
       "1"
      ]
     },
     "execution_count": 2,
     "metadata": {},
     "output_type": "execute_result"
    }
   ],
   "source": [
    "5 % 2  # 5 in 2 ye bolumunden kalani veriyor bunun sonucu integar\n"
   ]
  },
  {
   "cell_type": "code",
   "execution_count": 5,
   "id": "99ee3ce8",
   "metadata": {},
   "outputs": [
    {
     "data": {
      "text/plain": [
       "2"
      ]
     },
     "execution_count": 5,
     "metadata": {},
     "output_type": "execute_result"
    }
   ],
   "source": [
    "5 // 2 # 5 in 2 ye bolumunden sadece boluneni veriir "
   ]
  },
  {
   "cell_type": "code",
   "execution_count": 6,
   "id": "1756893a",
   "metadata": {},
   "outputs": [
    {
     "data": {
      "text/plain": [
       "2.0"
      ]
     },
     "execution_count": 6,
     "metadata": {},
     "output_type": "execute_result"
    }
   ],
   "source": [
    "4 / 2   # burada float veren tek sayilar tam bolunebulenler "
   ]
  },
  {
   "cell_type": "code",
   "execution_count": 7,
   "id": "6e00b090",
   "metadata": {},
   "outputs": [
    {
     "name": "stdout",
     "output_type": "stream",
     "text": [
      "5\n"
     ]
    }
   ],
   "source": [
    "x = 5\n",
    "x = x + 5\n",
    "x = x -5\n",
    "print(x)"
   ]
  },
  {
   "cell_type": "code",
   "execution_count": 16,
   "id": "0aec78ba",
   "metadata": {},
   "outputs": [
    {
     "name": "stdout",
     "output_type": "stream",
     "text": [
      "['hello', 'dear', 'friends']\n",
      "['hello', 'dear friends']\n"
     ]
    }
   ],
   "source": [
    "text = 'hello dear friends'\n",
    "print(text.split())\n",
    "print(text.split(\" \", 1))"
   ]
  },
  {
   "cell_type": "code",
   "execution_count": 21,
   "id": "8dc65c9d",
   "metadata": {},
   "outputs": [
    {
     "name": "stdout",
     "output_type": "stream",
     "text": [
      "a\n",
      "h\n",
      "m\n",
      "e\n",
      "t\n"
     ]
    }
   ],
   "source": [
    "text = 'ahmet' \n",
    "print(*text, sep=\"\\n\")"
   ]
  },
  {
   "cell_type": "code",
   "execution_count": 22,
   "id": "1fc9bd56",
   "metadata": {},
   "outputs": [
    {
     "name": "stdout",
     "output_type": "stream",
     "text": [
      "soru\n"
     ]
    }
   ],
   "source": [
    "#cumledeki en kisa kelime nedir ve kac karakterden olusuyor.\n",
    "text = \"soru cozumuyle kodlama becerim gelisiyor.\"\n",
    "a = text.split()\n",
    "print(min(a, key=len))"
   ]
  },
  {
   "cell_type": "code",
   "execution_count": 23,
   "id": "69414473",
   "metadata": {},
   "outputs": [
    {
     "name": "stdout",
     "output_type": "stream",
     "text": [
      "[1.0, 2.0, 3.0, 4.0, 5.0]\n"
     ]
    }
   ],
   "source": [
    "list1 = [1,2,3,4,5]\n",
    "list2 = list(map(float,list1))\n",
    "print(list2)"
   ]
  },
  {
   "cell_type": "code",
   "execution_count": 25,
   "id": "4c205eea",
   "metadata": {},
   "outputs": [
    {
     "name": "stdout",
     "output_type": "stream",
     "text": [
      "{1: 'a', 2: 'b', 3: 'c', 4: 'd', 5: 'e'}\n",
      "[(1, 'a'), (2, 'b'), (3, 'c'), (4, 'd'), (5, 'e')]\n"
     ]
    }
   ],
   "source": [
    "list1 = [1,2,3,4,5]\n",
    "list2 = [\"a\", \"b\", \"c\",\"d\", \"e\"]\n",
    "\n",
    "print(dict(zip(list1,list2)))\n",
    "print(list(zip(list1,list2)))"
   ]
  },
  {
   "cell_type": "code",
   "execution_count": 28,
   "id": "00dbc686",
   "metadata": {},
   "outputs": [
    {
     "name": "stdout",
     "output_type": "stream",
     "text": [
      "{(1, 'a'), (2, 'b'), (3, 'c')}\n",
      "[(1, 'a'), (2, 'b'), (3, 'c')]\n",
      "{1: 'a', 2: 'b', 3: 'c'}\n"
     ]
    }
   ],
   "source": [
    "list1 = [1,2,3,4]\n",
    "list2 = [\"a\", \"b\", \"c\"]\n",
    "\n",
    "print(set(zip(list1,list2)))\n",
    "print(list(zip(list1,list2)))\n",
    "print(dict(zip(list1,list2)))"
   ]
  },
  {
   "cell_type": "code",
   "execution_count": 29,
   "id": "c47d4386",
   "metadata": {},
   "outputs": [
    {
     "name": "stdout",
     "output_type": "stream",
     "text": [
      "[(3000, 'ahmet'), (3001, 'seyma'), (3002, 'omer'), (3003, 'defne')]\n"
     ]
    }
   ],
   "source": [
    "a = ['ahmet', 'seyma', 'omer', 'defne']\n",
    "\n",
    "new_a = list(enumerate(a, 3000))\n",
    "print(new_a)"
   ]
  },
  {
   "cell_type": "code",
   "execution_count": 34,
   "id": "d44acc31",
   "metadata": {},
   "outputs": [
    {
     "name": "stdout",
     "output_type": "stream",
     "text": [
      "['ali', 'veli', 'osman', 'ahmet']\n",
      "[1, 2, 3, 4]\n",
      "{1: 'ali', 2: 'veli', 3: 'osman', 4: 'ahmet'}\n"
     ]
    }
   ],
   "source": [
    "test_list = [\"ali\", 1 , \"veli\", 2 , \"osman\", 3, \"ahmet\", 4]\n",
    "name_list = test_list[0::2]\n",
    "id_list = test_list[1::2]\n",
    "print(name_list)\n",
    "print(id_list)\n",
    "\n",
    "print(dict(zip(id_list,name_list)))"
   ]
  },
  {
   "cell_type": "code",
   "execution_count": 1,
   "id": "7441cc47",
   "metadata": {},
   "outputs": [
    {
     "name": "stdout",
     "output_type": "stream",
     "text": [
      "enter five number: -3 -3 -5 6 7\n",
      "[-3, -3, -5, 6, 7]\n",
      "6\n"
     ]
    }
   ],
   "source": [
    "numbers = list(map(int,input(\"enter five number: \").split()))\n",
    "\n",
    "\n",
    "sec_max = sorted(set(numbers))[-2]\n",
    "print(numbers)\n",
    "print(sec_max)\n"
   ]
  },
  {
   "cell_type": "code",
   "execution_count": 8,
   "id": "9320b436",
   "metadata": {},
   "outputs": [
    {
     "name": "stdout",
     "output_type": "stream",
     "text": [
      "enter number:0\n",
      "number is zero\n"
     ]
    }
   ],
   "source": [
    "a = int(input(\"enter number:\"))\n",
    "\n",
    "if a> 0:\n",
    "    print(\"positive\")\n",
    "elif a<0:\n",
    "    print(\"negative\")\n",
    "elif a == 0:\n",
    "    print(\"number is zero\")\n",
    "else:\n",
    "    print(\"pease enter number\")"
   ]
  },
  {
   "cell_type": "code",
   "execution_count": 9,
   "id": "9be28f74",
   "metadata": {},
   "outputs": [
    {
     "name": "stdout",
     "output_type": "stream",
     "text": [
      "enter mail:seydailpksdQgmail.com\n",
      "enter password:22424\n",
      "wrong email and password\n"
     ]
    }
   ],
   "source": [
    "email = 'seydailk24@gmail.com'\n",
    "pswrd = 'd999'\n",
    "ent_mail = input(\"enter mail:\")\n",
    "ent_pswrd = input(\"enter password:\")\n",
    "\n",
    "if (ent_mail != email and ent_pswrd == pswrd):\n",
    "    print(\"wrong email adress\")\n",
    "elif(ent_mail == email and ent_pswrd != pswrd):\n",
    "    print(\"wrong password\")\n",
    "elif(ent_mail != email and ent_pswrd !=pswrd):\n",
    "    print(\"wrong email and password\")\n",
    "else:\n",
    "    print(\"login successfull\")"
   ]
  },
  {
   "cell_type": "code",
   "execution_count": null,
   "id": "158bf066",
   "metadata": {},
   "outputs": [],
   "source": []
  }
 ],
 "metadata": {
  "kernelspec": {
   "display_name": "Python 3",
   "language": "python",
   "name": "python3"
  },
  "language_info": {
   "codemirror_mode": {
    "name": "ipython",
    "version": 3
   },
   "file_extension": ".py",
   "mimetype": "text/x-python",
   "name": "python",
   "nbconvert_exporter": "python",
   "pygments_lexer": "ipython3",
   "version": "3.8.8"
  }
 },
 "nbformat": 4,
 "nbformat_minor": 5
}
